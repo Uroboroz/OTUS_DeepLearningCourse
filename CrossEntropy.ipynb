{
 "cells": [
  {
   "cell_type": "code",
   "execution_count": 1,
   "metadata": {},
   "outputs": [],
   "source": [
    "import torch\n",
    "import torch.nn as nn\n",
    "import torch.nn.functional as F"
   ]
  },
  {
   "cell_type": "code",
   "execution_count": 2,
   "metadata": {},
   "outputs": [],
   "source": [
    "def CrossEntropy(input, target):\n",
    "    m = target.shape[0]\n",
    "    max_val = (-input).clamp(min=0)\n",
    "    loss = input - input * torch.Tensor([range(m), target]) + max_val + ((-max_val).exp() + (-input - max_val).exp()).log()\n",
    "    return loss.mean()"
   ]
  },
  {
   "cell_type": "code",
   "execution_count": 3,
   "metadata": {},
   "outputs": [
    {
     "name": "stdout",
     "output_type": "stream",
     "text": [
      "tensor(200.) tensor(600.)\n"
     ]
    }
   ],
   "source": [
    "o = torch.Tensor([[200., -200.], [400., -400.]])\n",
    "t = torch.Tensor([1, 1]).to(torch.long)\n",
    "print(CrossEntropy(o, t), F.nll_loss(F.log_softmax(o, dim=1), t))"
   ]
  },
  {
   "cell_type": "code",
   "execution_count": null,
   "metadata": {},
   "outputs": [],
   "source": []
  }
 ],
 "metadata": {
  "kernelspec": {
   "display_name": "Python 3",
   "language": "python",
   "name": "python3"
  },
  "language_info": {
   "codemirror_mode": {
    "name": "ipython",
    "version": 3
   },
   "file_extension": ".py",
   "mimetype": "text/x-python",
   "name": "python",
   "nbconvert_exporter": "python",
   "pygments_lexer": "ipython3",
   "version": "3.6.3"
  }
 },
 "nbformat": 4,
 "nbformat_minor": 2
}
