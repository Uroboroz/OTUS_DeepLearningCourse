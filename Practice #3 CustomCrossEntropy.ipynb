{
 "cells": [
  {
   "cell_type": "code",
   "execution_count": 1,
   "metadata": {},
   "outputs": [],
   "source": [
    "import torch\n",
    "import torch.nn as nn\n",
    "import torch.nn.functional as F\n",
    "import torch.optim as optim\n",
    "from torchvision import datasets, transforms\n",
    "from torch import autograd\n",
    "\n",
    "from utils_2 import mnist"
   ]
  },
  {
   "cell_type": "code",
   "execution_count": 21,
   "metadata": {},
   "outputs": [],
   "source": [
    "train_loader, test_loader = mnist()"
   ]
  },
  {
   "cell_type": "code",
   "execution_count": 22,
   "metadata": {},
   "outputs": [],
   "source": [
    "def CrossEntropy(x, y):\n",
    "    m = y.shape[0]\n",
    "    p = F.softmax(x, dim=1)\n",
    "    log_likelihood = -1*torch.log(p[range(m),y])\n",
    "    loss = torch.sum(log_likelihood) / m\n",
    "    return loss"
   ]
  },
  {
   "cell_type": "code",
   "execution_count": 23,
   "metadata": {},
   "outputs": [],
   "source": [
    "class Net(nn.Module):\n",
    "    def __init__(self):\n",
    "        super(Net, self).__init__()\n",
    "        self.fc1 = nn.Linear(28*28, 128)\n",
    "        self.fc2 = nn.Linear(128, 128)\n",
    "        self.fc3 = nn.Linear(128, 10)\n",
    "        self.optim = optim.Adam(self.parameters(), lr=0.01)\n",
    "        \n",
    "    def forward(self, x):\n",
    "        x = x.view(-1, 28*28)\n",
    "        x = F.sigmoid(self.fc1(x))\n",
    "        x = F.sigmoid(self.fc2(x))\n",
    "        x = self.fc3(x)\n",
    "        return x\n",
    "    \n",
    "    def loss(self, output, target, **kwargs):\n",
    "        self._loss = CrossEntropy(output, target)\n",
    "        return self._loss"
   ]
  },
  {
   "cell_type": "code",
   "execution_count": 24,
   "metadata": {},
   "outputs": [],
   "source": [
    "class Net_(nn.Module):\n",
    "    def __init__(self):\n",
    "        super(Net_, self).__init__()\n",
    "        self.fc1 = nn.Linear(28*28, 128)\n",
    "        self.fc2 = nn.Linear(128, 128)\n",
    "        self.fc3 = nn.Linear(128, 10)\n",
    "        self.optim = optim.Adam(self.parameters(), lr=0.01)\n",
    "        \n",
    "    def forward(self, x):\n",
    "        x = x.view(-1, 28*28)\n",
    "        x = F.sigmoid(self.fc1(x))\n",
    "        x = F.sigmoid(self.fc2(x))\n",
    "        x = self.fc3(x)\n",
    "        return F.log_softmax(x, dim=1)\n",
    "    \n",
    "    def loss(self, output, target, **kwargs):\n",
    "        self._loss = F.nll_loss(output, target)\n",
    "        return self._loss"
   ]
  },
  {
   "cell_type": "code",
   "execution_count": 25,
   "metadata": {},
   "outputs": [],
   "source": [
    "def train(epoch, models):\n",
    "    for batch_idx, (data, target) in enumerate(train_loader):\n",
    "        data, target = data, target\n",
    "        for model in models:\n",
    "            model.optim.zero_grad()\n",
    "            output = model(data)\n",
    "            loss = model.loss(output, target)\n",
    "            loss.backward()\n",
    "            model.optim.step()\n",
    "            \n",
    "        if batch_idx % 200 == 0:\n",
    "            line = 'Train Epoch: {} [{}/{} ({:.0f}%)]\\tLosses '.format(\n",
    "                epoch, batch_idx * len(data), len(train_loader.dataset),\n",
    "                100. * batch_idx / len(train_loader))\n",
    "            losses = ' '.join(['{}: {:.6f}'.format(i, m._loss.item()) for i, m in enumerate(models)])\n",
    "            print(line + losses)\n",
    "            \n",
    "    else:\n",
    "        batch_idx += 1\n",
    "        line = 'Train Epoch: {} [{}/{} ({:.0f}%)]\\tLosses '.format(\n",
    "            epoch, batch_idx * len(data), len(train_loader.dataset),\n",
    "            100. * batch_idx / len(train_loader))\n",
    "        losses = ' '.join(['{}: {:.6f}'.format(i, m._loss.item()) for i, m in enumerate(models)])\n",
    "        print(line + losses)"
   ]
  },
  {
   "cell_type": "code",
   "execution_count": 26,
   "metadata": {},
   "outputs": [],
   "source": [
    "models = [Net(), Net_()]"
   ]
  },
  {
   "cell_type": "code",
   "execution_count": 27,
   "metadata": {},
   "outputs": [],
   "source": [
    "avg_lambda = lambda l: 'Loss: {:.4f}'.format(l)\n",
    "acc_lambda = lambda c, p: 'Accuracy: {}/{} ({:.0f}%)'.format(c, len(test_loader.dataset), p)\n",
    "line = lambda i, l, c, p: '{}: '.format(i) + avg_lambda(l) + '\\t' + acc_lambda(c, p)\n",
    "\n",
    "def test(models):\n",
    "    test_loss = [0]*len(models)\n",
    "    correct = [0]*len(models)\n",
    "    with torch.no_grad():\n",
    "        for data, target in test_loader:\n",
    "            output = [m(data) for m in models]\n",
    "            for i, m in enumerate(models):\n",
    "                test_loss[i] += m.loss(output[i], target, size_average=False).item() # sum up batch loss\n",
    "                pred = output[i].data.max(1, keepdim=True)[1] # get the index of the max log-probability\n",
    "                correct[i] += pred.eq(target.data.view_as(pred)).cpu().sum()\n",
    "    \n",
    "    for i in range(len(models)):\n",
    "        test_loss[i] /= len(test_loader.dataset)\n",
    "    correct_pct = [100. * c / len(test_loader.dataset) for c in correct]\n",
    "    lines = '\\n'.join([line(i, test_loss[i], correct[i], correct_pct[i]) for i in range(len(models))]) + '\\n'\n",
    "    report = 'Test set:\\n' + lines\n",
    "    \n",
    "    print(report)"
   ]
  },
  {
   "cell_type": "code",
   "execution_count": null,
   "metadata": {},
   "outputs": [
    {
     "name": "stdout",
     "output_type": "stream",
     "text": [
      "Train Epoch: 1 [0/60000 (0%)]\tLosses 0: 2.336529 1: 2.353592\n",
      "Train Epoch: 1 [10000/60000 (17%)]\tLosses 0: 0.354676 1: 0.283088\n",
      "Train Epoch: 1 [20000/60000 (33%)]\tLosses 0: 0.148002 1: 0.136739\n",
      "Train Epoch: 1 [30000/60000 (50%)]\tLosses 0: 0.278744 1: 0.431664\n",
      "Train Epoch: 1 [40000/60000 (67%)]\tLosses 0: 0.360995 1: 0.374400\n",
      "Train Epoch: 1 [50000/60000 (83%)]\tLosses 0: 0.350509 1: 0.279910\n",
      "Train Epoch: 1 [60000/60000 (100%)]\tLosses 0: 0.190117 1: 0.195683\n",
      "Test set:\n",
      "0: Loss: 0.0043\tAccuracy: 9328/10000 (93%)\n",
      "1: Loss: 0.0043\tAccuracy: 9315/10000 (93%)\n",
      "\n",
      "Train Epoch: 2 [0/60000 (0%)]\tLosses 0: 0.274394 1: 0.109103\n",
      "Train Epoch: 2 [10000/60000 (17%)]\tLosses 0: 0.169340 1: 0.119274\n",
      "Train Epoch: 2 [20000/60000 (33%)]\tLosses 0: 0.213821 1: 0.115671\n",
      "Train Epoch: 2 [30000/60000 (50%)]\tLosses 0: 0.119989 1: 0.199413\n",
      "Train Epoch: 2 [40000/60000 (67%)]\tLosses 0: 0.214194 1: 0.229517\n",
      "Train Epoch: 2 [50000/60000 (83%)]\tLosses 0: 0.077810 1: 0.169608\n",
      "Train Epoch: 2 [60000/60000 (100%)]\tLosses 0: 0.161085 1: 0.165550\n",
      "Test set:\n",
      "0: Loss: 0.0039\tAccuracy: 9411/10000 (94%)\n",
      "1: Loss: 0.0038\tAccuracy: 9407/10000 (94%)\n",
      "\n",
      "Train Epoch: 3 [0/60000 (0%)]\tLosses 0: 0.178429 1: 0.185404\n",
      "Train Epoch: 3 [10000/60000 (17%)]\tLosses 0: 0.218137 1: 0.087351\n",
      "Train Epoch: 3 [20000/60000 (33%)]\tLosses 0: 0.206213 1: 0.300700\n",
      "Train Epoch: 3 [30000/60000 (50%)]\tLosses 0: 0.124414 1: 0.146440\n",
      "Train Epoch: 3 [40000/60000 (67%)]\tLosses 0: 0.189773 1: 0.085931\n",
      "Train Epoch: 3 [50000/60000 (83%)]\tLosses 0: 0.157710 1: 0.262231\n",
      "Train Epoch: 3 [60000/60000 (100%)]\tLosses 0: 0.250092 1: 0.333006\n",
      "Test set:\n",
      "0: Loss: 0.0037\tAccuracy: 9405/10000 (94%)\n",
      "1: Loss: 0.0038\tAccuracy: 9428/10000 (94%)\n",
      "\n",
      "Train Epoch: 4 [0/60000 (0%)]\tLosses 0: 0.076341 1: 0.171733\n",
      "Train Epoch: 4 [10000/60000 (17%)]\tLosses 0: 0.166434 1: 0.076032\n",
      "Train Epoch: 4 [20000/60000 (33%)]\tLosses 0: 0.127469 1: 0.075443\n",
      "Train Epoch: 4 [30000/60000 (50%)]\tLosses 0: 0.064922 1: 0.088442\n",
      "Train Epoch: 4 [40000/60000 (67%)]\tLosses 0: 0.069065 1: 0.064658\n",
      "Train Epoch: 4 [50000/60000 (83%)]\tLosses 0: 0.220216 1: 0.133880\n",
      "Train Epoch: 4 [60000/60000 (100%)]\tLosses 0: 0.209556 1: 0.083623\n",
      "Test set:\n",
      "0: Loss: 0.0036\tAccuracy: 9430/10000 (94%)\n",
      "1: Loss: 0.0036\tAccuracy: 9436/10000 (94%)\n",
      "\n",
      "Train Epoch: 5 [0/60000 (0%)]\tLosses 0: 0.111278 1: 0.194439\n"
     ]
    }
   ],
   "source": [
    "for epoch in range(1, 21):\n",
    "    train(epoch, models)\n",
    "    test(models)"
   ]
  },
  {
   "cell_type": "code",
   "execution_count": null,
   "metadata": {},
   "outputs": [],
   "source": []
  },
  {
   "cell_type": "code",
   "execution_count": null,
   "metadata": {},
   "outputs": [],
   "source": []
  }
 ],
 "metadata": {
  "kernelspec": {
   "display_name": "Python 3",
   "language": "python",
   "name": "python3"
  },
  "language_info": {
   "codemirror_mode": {
    "name": "ipython",
    "version": 3
   },
   "file_extension": ".py",
   "mimetype": "text/x-python",
   "name": "python",
   "nbconvert_exporter": "python",
   "pygments_lexer": "ipython3",
   "version": "3.6.3"
  }
 },
 "nbformat": 4,
 "nbformat_minor": 2
}
